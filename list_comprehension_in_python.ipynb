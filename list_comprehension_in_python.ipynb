{
  "nbformat": 4,
  "nbformat_minor": 0,
  "metadata": {
    "colab": {
      "name": "list-comprehension-in-python.ipynb",
      "provenance": [],
      "collapsed_sections": [],
      "toc_visible": true,
      "authorship_tag": "ABX9TyOBb/rXGLAEfRNSiLRVkduO",
      "include_colab_link": true
    },
    "kernelspec": {
      "name": "python3",
      "display_name": "Python 3"
    },
    "language_info": {
      "name": "python"
    }
  },
  "cells": [
    {
      "cell_type": "markdown",
      "metadata": {
        "id": "view-in-github",
        "colab_type": "text"
      },
      "source": [
        "<a href=\"https://colab.research.google.com/github/evandroamparo/list-comprehension-in-python/blob/main/list_comprehension_in_python.ipynb\" target=\"_parent\"><img src=\"https://colab.research.google.com/assets/colab-badge.svg\" alt=\"Open In Colab\"/></a>"
      ]
    },
    {
      "cell_type": "markdown",
      "source": [
        "\n",
        "# List Comprehension in Python\n",
        "\n",
        "This is the Python notebook version of the article by Dionysia Lemonaki originally published on https://www.freecodecamp.org/news/list-comprehension-in-python-with-code-examples."
      ],
      "metadata": {
        "id": "3gxS_7QXpbEh"
      }
    },
    {
      "cell_type": "markdown",
      "source": [
        "Lists are a helpful and frequently used feature in Python.\n",
        "\n",
        "And list comprehension gives you a way to create lists while writing more elegant code that is easy to read.\n",
        "\n",
        "In this beginner-friendly article, I'll give an overview of how list comprehension works in Python. I'll also show plenty of code examples along theway.\n",
        "\n",
        "Let's get started!"
      ],
      "metadata": {
        "id": "ESSErOeR2Ueg"
      }
    },
    {
      "cell_type": "markdown",
      "source": [
        "## How to use a `for` loop to create a list in Python\n",
        "\n",
        "One way to create a list in Python is by using a `for` loop.\n",
        "\n",
        "For example, you can use the `range()` function to create a list of numbers ranging from 0 - 4."
      ],
      "metadata": {
        "id": "e5OlQGfJwRTt"
      }
    },
    {
      "cell_type": "code",
      "source": [
        "#first create an empty list\n",
        "my_list = []\n",
        "\n",
        "#iterate over the numbers 0 - 4 using the range() function\n",
        "#range(5) creates an iterable, starting from 0 up to (but not including) 5\n",
        "#Use the .append() method to add the numbers 0 - 4 to my_list\n",
        "\n",
        "for num in range(5):\n",
        "    my_list.append(num)\n",
        "    \n",
        "#print my_list\n",
        "print(my_list)"
      ],
      "metadata": {
        "colab": {
          "base_uri": "https://localhost:8080/"
        },
        "id": "29AoCiXapwS0",
        "outputId": "cfe59c4c-96ce-48d2-aa60-3330c8d0ca98"
      },
      "execution_count": null,
      "outputs": [
        {
          "output_type": "stream",
          "name": "stdout",
          "text": [
            "[0, 1, 2, 3, 4]\n"
          ]
        }
      ]
    },
    {
      "cell_type": "markdown",
      "source": [
        "What if you already have a list of numbers, but want to create a new list with their squares?\n",
        "\n",
        "You could again use a `for` loop, like so:"
      ],
      "metadata": {
        "id": "cl4dd15fwtvk"
      }
    },
    {
      "cell_type": "code",
      "source": [
        "#initial list of numbers\n",
        "numbers = [1,2,3,4,5,6]\n",
        "\n",
        "#create a new,empty list to hold their squares\n",
        "square_numbers = []\n",
        "\n",
        "#iterate over initial list\n",
        "#multiply each number by itself\n",
        "#use .append() method, to add the square to the new list, square_numbers\n",
        "\n",
        "for num in numbers: \n",
        "    square_numbers.append(num * num)\n",
        "\n",
        "#print new list\n",
        "print(square_numbers)"
      ],
      "metadata": {
        "colab": {
          "base_uri": "https://localhost:8080/"
        },
        "id": "tBjLm-uvw3yD",
        "outputId": "81ac3473-bfcc-4d88-c535-3942060ab2f2"
      },
      "execution_count": null,
      "outputs": [
        {
          "output_type": "stream",
          "name": "stdout",
          "text": [
            "[1, 4, 9, 16, 25, 36]\n"
          ]
        }
      ]
    },
    {
      "cell_type": "markdown",
      "source": [
        "But there is a quicker and more succinct way to achieve the same results – by using list comprehension."
      ],
      "metadata": {
        "id": "Dio2ZX_T4rCh"
      }
    },
    {
      "cell_type": "markdown",
      "source": [
        "## What is list comprehension in Python? A syntax overview\n",
        "\n",
        "When you're analyzing and working with lists in Python, you'll often have to manipulate, modify, or perform calculations on every single item in the list, all at once.\n",
        "\n",
        "You may also need to create new lists from scratch, or create a new list based on the values of an already existing list.\n",
        "\n",
        "List comprehension is a fast, short, and elegant way to create lists compared to other iterative methods, like `for` loops.\n",
        "\n",
        "The general syntax for list comprehension looks like this:\n",
        "\n",
        "```python\n",
        "new_list = [expression for variable in iterable]\n",
        "```\n",
        "\n",
        "Let's break it down:\n",
        "\n",
        "* List comprehensions start and end with opening and closing square brackets, `[]`.\n",
        "* Then comes the `expression` or operation you'd like to perform and carry out on each value inside the current iterable. The results of these calculations enter the new list.\n",
        "* The `expression` is followed by a `for` clause.\n",
        "* `variable` is a temporary name you want to use for each item in the current list that is going through the iteration.\n",
        "* The `in` keyword is used to loop over the iterable.\n",
        "* `iterable` can be any Python object, such as a list, tuple, string and so on.\n",
        "* From the iteration that was performed and the calculations that took place on each item during the iteration, new values were created which are saved to a variable, in this case `new_list`. The old list (or other object) will remain unchanged.\n",
        "* There can be an optional `if` statement and additional `for` clause.\n"
      ],
      "metadata": {
        "id": "jeq4nsI7xmdj"
      }
    },
    {
      "cell_type": "markdown",
      "source": [
        "## How to use list comprehension in Python\n",
        "\n",
        "Using the same example from earlier on, here is how you'd create a new list of numbers from 0 - 4 with the `range()` function in just one single line, using list comprehension:"
      ],
      "metadata": {
        "id": "ZJsgVaNS5njV"
      }
    },
    {
      "cell_type": "code",
      "source": [
        "new_list = [num for num in range(5)]\n",
        "\n",
        "print(new_list)"
      ],
      "metadata": {
        "colab": {
          "base_uri": "https://localhost:8080/"
        },
        "id": "Wr6jiDNSxsGu",
        "outputId": "d7d45164-be59-4c8d-ff63-fda5cbb7ae2b"
      },
      "execution_count": null,
      "outputs": [
        {
          "output_type": "stream",
          "name": "stdout",
          "text": [
            "[0, 1, 2, 3, 4]\n"
          ]
        }
      ]
    },
    {
      "cell_type": "markdown",
      "source": [
        "This has the same output as the `for` loop example, but with significantly less code!\n",
        "\n",
        "Let's break it down:\n",
        "\n",
        "* the iterable in this case is a sequence of numbers from 0 to 4, using `range(5`). `range()` constructs a list of numbers.\n",
        "* You use the `in` keyword to iterate over the numbers.\n",
        "* The `num` following the `for` clause is a variable, a temporary name for each value in the iterable. So `num` would be equal to `0` in the first iteration, then `num` would be equal to `1` in the next iteration and so on, until it reached and equalled the number 4, where the iteration would stop.\n",
        "* The `num` before the `for` clause is an expression for each item in the sequence.\n",
        "* Finally, the new list (or other iterable) that is created gets stored in the variable `new_list`.\n",
        "\n",
        "You can even perform mathematical operations on the items contained in the iterable and the result will be added to the new list:"
      ],
      "metadata": {
        "id": "7uMaqag850xb"
      }
    },
    {
      "cell_type": "code",
      "source": [
        "new_list = [num * 2 for num in range(5)]\n",
        "\n",
        "print(new_list)"
      ],
      "metadata": {
        "colab": {
          "base_uri": "https://localhost:8080/"
        },
        "id": "74cMK22Y53St",
        "outputId": "6ee626b5-b905-493a-a12c-31523e3fa2b8"
      },
      "execution_count": null,
      "outputs": [
        {
          "output_type": "stream",
          "name": "stdout",
          "text": [
            "[0, 2, 4, 6, 8]\n"
          ]
        }
      ]
    },
    {
      "cell_type": "markdown",
      "source": [
        "Here each number in `range(5)` will be multiplied by two and the new value will be stored in the variable `new_list`.\n",
        "\n",
        "What if you had a pre-existing list where you wanted to manipulate and modify each item in it? This would be similar to the example from earlier on, where we created a list of squares.\n",
        "\n",
        "Again, you can achieve that with just one line of code, using list comprehension:"
      ],
      "metadata": {
        "id": "q-vMshYP56G_"
      }
    },
    {
      "cell_type": "code",
      "source": [
        "#initial list\n",
        "numbers = [1,2,3,4,5,6]\n",
        "\n",
        "#new list\n",
        "#num * num is the operation that takes place to create the squares\n",
        "\n",
        "square_numbers = [num * num for num in numbers]\n",
        "\n",
        "print(square_numbers)"
      ],
      "metadata": {
        "colab": {
          "base_uri": "https://localhost:8080/"
        },
        "id": "PC13cyWk7jTe",
        "outputId": "4e7042a1-bc85-4c20-d726-b742dbda2e02"
      },
      "execution_count": null,
      "outputs": [
        {
          "output_type": "stream",
          "name": "stdout",
          "text": [
            "[1, 4, 9, 16, 25, 36]\n"
          ]
        }
      ]
    },
    {
      "cell_type": "markdown",
      "source": [
        "## How to use conditionals with list comprehension in Python\n",
        "\n",
        "Optionally, you can use an `if` statement with a list comprehension.\n",
        "\n",
        "The general syntax looks like this:\n",
        "\n",
        "```python\n",
        "new_list = [expression for variable in iterable if condition == True]\n",
        "```\n",
        "\n",
        "Conditionals act as a filter and add an extra check for additional precision and customisation when creating a new list.\n",
        "\n",
        "This means that the value in the expression has to meet certain criteria and a certain condition you speficy, in order to go in the new list."
      ],
      "metadata": {
        "id": "RUWwRskIzf7W"
      }
    },
    {
      "cell_type": "code",
      "source": [
        "new_list = [num for num in range(50) if num % 2 == 0]\n",
        "\n",
        "print(new_list)"
      ],
      "metadata": {
        "colab": {
          "base_uri": "https://localhost:8080/"
        },
        "id": "wfHoTnGizl-T",
        "outputId": "2ab48a9d-a754-46f9-e61e-0edff8e9c7f0"
      },
      "execution_count": null,
      "outputs": [
        {
          "output_type": "stream",
          "name": "stdout",
          "text": [
            "[0, 2, 4, 6, 8, 10, 12, 14, 16, 18, 20, 22, 24, 26, 28, 30, 32, 34, 36, 38, 40, 42, 44, 46, 48]\n"
          ]
        }
      ]
    },
    {
      "cell_type": "markdown",
      "source": [
        "In the example above, only the values where the condition `num % 2 == 0` is checked and evaluates to True will enter `new_list`.\n",
        "\n",
        "The modulo operator is used on every single one of the numbers in the sequence of numbers starting from 0 and ending in 49.\n",
        "\n",
        "If the remainder of the numbers when divided by 2 is 0, then and only then does it enter the list.\n",
        "\n",
        "So in this case, it creates a list of only even numbers.\n",
        "\n",
        "You can then make it as specific as you want.\n",
        "\n",
        "For example, you could add more than one condition, like so:"
      ],
      "metadata": {
        "id": "mGvJXevr73li"
      }
    },
    {
      "cell_type": "code",
      "source": [
        "new_list = [num for num in range(50) if  num > 20 and num % 2 == 0]\n",
        "\n",
        "print(new_list)"
      ],
      "metadata": {
        "colab": {
          "base_uri": "https://localhost:8080/"
        },
        "id": "fvE1rV-F79Lm",
        "outputId": "ddc3ff01-7779-446d-cdd4-9af4b3899376"
      },
      "execution_count": null,
      "outputs": [
        {
          "output_type": "stream",
          "name": "stdout",
          "text": [
            "[22, 24, 26, 28, 30, 32, 34, 36, 38, 40, 42, 44, 46, 48]\n"
          ]
        }
      ]
    },
    {
      "cell_type": "markdown",
      "source": [
        "In this example, there are two conditions `num > 20` and `num % 2 == 0`.\n",
        "\n",
        "The `and` operator indicates that both have to be met in order for the value to be added to the new list.\n",
        "\n",
        "The values that don't meet the conditions are excluded and are not added."
      ],
      "metadata": {
        "id": "LRtpG4Ck7_mJ"
      }
    },
    {
      "cell_type": "markdown",
      "source": [
        "## How to use list comprehension on strings in Python\n",
        "\n",
        "You can create a new list with the individual characters contained in a given string."
      ],
      "metadata": {
        "id": "TVMJpUQJ0l_Y"
      }
    },
    {
      "cell_type": "code",
      "source": [
        "fave_language_chars = [letter for letter in \"Python\"]\n",
        "\n",
        "print(fave_language_chars)"
      ],
      "metadata": {
        "colab": {
          "base_uri": "https://localhost:8080/"
        },
        "id": "Vlm4sdH30m-W",
        "outputId": "11ff25e0-2033-4a76-efb6-0fc1208cc5e8"
      },
      "execution_count": null,
      "outputs": [
        {
          "output_type": "stream",
          "name": "stdout",
          "text": [
            "['P', 'y', 't', 'h', 'o', 'n']\n"
          ]
        }
      ]
    },
    {
      "cell_type": "markdown",
      "source": [
        "The new list that gets created is comprised of all the separate letters contained in the string \"Python\", which acts as an iterable.\n",
        "\n",
        "Just like numbers, you can perform operations on the characters contained in a string and customize them depending on how you want them to be in the new list you create.\n",
        "\n",
        "If you wanted all letters to be uppercase, you would do the following:"
      ],
      "metadata": {
        "id": "hy8fbuSJ8JUZ"
      }
    },
    {
      "cell_type": "code",
      "source": [
        "fave_language_chars_upper = [letter.upper() for letter in \"Python\"]\n",
        "\n",
        "print(fave_language_chars_upper)"
      ],
      "metadata": {
        "colab": {
          "base_uri": "https://localhost:8080/"
        },
        "id": "dJ_u2V2S1Vwc",
        "outputId": "184d0d14-0a2f-46d7-d520-e844b557e756"
      },
      "execution_count": null,
      "outputs": [
        {
          "output_type": "stream",
          "name": "stdout",
          "text": [
            "['P', 'Y', 'T', 'H', 'O', 'N']\n"
          ]
        }
      ]
    },
    {
      "cell_type": "markdown",
      "source": [
        "Here you use the `.upper()` method to convert every single letter in \"Python\" to uppercase and add them to the `fave_language_chars_upper` variable.\n",
        "\n",
        "The same goes if you wanted all your letters to be lowercase - you'd instead use the `lower()` method."
      ],
      "metadata": {
        "id": "oH-zBz0r8NPw"
      }
    },
    {
      "cell_type": "markdown",
      "source": [
        "## Conclusion\n",
        "And there you have it! You now know the basics of list comprehension in Python.\n",
        "\n",
        "It offers an elegant and concise syntax for creating new lists based on existing lists or other iterables.\n",
        "\n",
        "If you're interested in learning more about Python, freeCodeCamp has a [Python Certification](https://www.freecodecamp.org/learn/scientific-computing-with-python/).\n",
        "\n",
        "In this project-based curriculum, you'll start with learning programming fundamentals and advance to more complex subjects such as data structutes. You'll also build five projects to put to practice what you've learned.\n",
        "\n",
        "Thanks for reading and happy coding!"
      ],
      "metadata": {
        "id": "Tk7OUU0n8Yk_"
      }
    }
  ]
}